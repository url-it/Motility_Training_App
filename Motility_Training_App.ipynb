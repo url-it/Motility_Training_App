{
 "cells": [
  {
   "cell_type": "code",
   "execution_count": 1,
   "metadata": {
    "extensions": {
     "jupyter_dashboards": {
      "version": 1,
      "views": {
       "grid_default": {
        "hidden": true
       },
       "report_default": {
        "hidden": true
       }
      }
     }
    }
   },
   "outputs": [],
   "source": [
    "%matplotlib inline"
   ]
  },
  {
   "cell_type": "code",
   "execution_count": 1,
   "metadata": {
    "extensions": {
     "jupyter_dashboards": {
      "version": 1,
      "views": {
       "grid_default": {
        "hidden": true
       },
       "report_default": {
        "hidden": true
       }
      }
     }
    }
   },
   "outputs": [
    {
     "name": "stdout",
     "output_type": "stream",
     "text": [
      "Using config file config.xml ... \n",
      "User parameters in XML config file: \n",
      "Bool parameters:: \n",
      "is_motile: 1 [none]\n",
      "fixed_persistence: 0 [none]\n",
      "\n",
      "Int parameters:: \n",
      "random_seed: 0 [dimensionless]\n",
      "number_of_cells: 3 [none]\n",
      "\n",
      "Double parameters:: \n",
      "persistence_time: 30 [min]\n",
      "migration_speed: 2 [micron/min]\n",
      "migration_bias: 0.8 [none]\n",
      "bias_migration_angle: 30 [degree]\n",
      "tracer_secretion_rate_constant: 1 [1/min]\n",
      "\n",
      "String parameters:: \n",
      "\n",
      "\n",
      "\n",
      "Microenvironment summary: microenvironment: \n",
      "\n",
      "Mesh information: \n",
      "type: uniform Cartesian\n",
      "Domain: [-500,500] micron x [-500,500] micron x [-1,1] micron\n",
      "   resolution: dx = 2 micron\n",
      "   voxels: 250000\n",
      "   voxel faces: 0\n",
      "   volume: 2e+06 cubic micron\n",
      "Densities: (1 total)\n",
      "   tracer:\n",
      "     units: mol\n",
      "     diffusion coefficient: 0 micron^2 / min\n",
      "     decay rate: 0 min^-1\n",
      "     diffusion length scale: 0 micron\n",
      "     initial condition: 0 mol\n",
      "     boundary condition: 0 mol (enabled: false)\n",
      "\n",
      "Seeding cell number 0 1 2  and done!\n",
      "Using PhysiCell version 1.6.0\n",
      "\tPlease cite DOI: 10.1371/journal.pcbi.1005991\n",
      "\tProject website: http://PhysiCell.MathCancer.org\n",
      "\n",
      "See ALL_CITATIONS.txt for this list.\n",
      "current simulated time: 0 min (max: 800 min)\n",
      "total agents: 3\n",
      "interval wall time: 0 days, 0 hours, 0 minutes, and 1e-05 seconds \n",
      "total wall time: 0 days, 0 hours, 0 minutes, and 1.1e-05 seconds \n",
      "\n",
      "current simulated time: 30 min (max: 800 min)\n",
      "total agents: 3\n",
      "interval wall time: 0 days, 0 hours, 0 minutes, and 0.097433 seconds \n",
      "total wall time: 0 days, 0 hours, 0 minutes, and 0.097445 seconds \n",
      "\n",
      "current simulated time: 60 min (max: 800 min)\n",
      "total agents: 3\n",
      "interval wall time: 0 days, 0 hours, 0 minutes, and 0.255202 seconds \n",
      "total wall time: 0 days, 0 hours, 0 minutes, and 0.352649 seconds \n",
      "\n",
      "current simulated time: 90 min (max: 800 min)\n",
      "total agents: 3\n",
      "interval wall time: 0 days, 0 hours, 0 minutes, and 0.105423 seconds \n",
      "total wall time: 0 days, 0 hours, 0 minutes, and 0.458074 seconds \n",
      "\n",
      "current simulated time: 120 min (max: 800 min)\n",
      "total agents: 3\n",
      "interval wall time: 0 days, 0 hours, 0 minutes, and 0.095074 seconds \n",
      "total wall time: 0 days, 0 hours, 0 minutes, and 0.553149 seconds \n",
      "\n",
      "current simulated time: 150 min (max: 800 min)\n",
      "total agents: 3\n",
      "interval wall time: 0 days, 0 hours, 0 minutes, and 0.099699 seconds \n",
      "total wall time: 0 days, 0 hours, 0 minutes, and 0.65285 seconds \n",
      "\n",
      "current simulated time: 180 min (max: 800 min)\n",
      "total agents: 3\n",
      "interval wall time: 0 days, 0 hours, 0 minutes, and 0.108849 seconds \n",
      "total wall time: 0 days, 0 hours, 0 minutes, and 0.761712 seconds \n",
      "\n",
      "current simulated time: 210 min (max: 800 min)\n",
      "total agents: 3\n",
      "interval wall time: 0 days, 0 hours, 0 minutes, and 0.16364 seconds \n",
      "total wall time: 0 days, 0 hours, 0 minutes, and 0.925353 seconds \n",
      "\n",
      "current simulated time: 240 min (max: 800 min)\n",
      "total agents: 3\n",
      "interval wall time: 0 days, 0 hours, 0 minutes, and 0.099962 seconds \n",
      "total wall time: 0 days, 0 hours, 0 minutes, and 1.02532 seconds \n",
      "\n",
      "current simulated time: 270 min (max: 800 min)\n",
      "total agents: 3\n",
      "interval wall time: 0 days, 0 hours, 0 minutes, and 0.091421 seconds \n",
      "total wall time: 0 days, 0 hours, 0 minutes, and 1.11674 seconds \n",
      "\n",
      "current simulated time: 300 min (max: 800 min)\n",
      "total agents: 3\n",
      "interval wall time: 0 days, 0 hours, 0 minutes, and 0.110642 seconds \n",
      "total wall time: 0 days, 0 hours, 0 minutes, and 1.22738 seconds \n",
      "\n",
      "current simulated time: 330 min (max: 800 min)\n",
      "total agents: 3\n",
      "interval wall time: 0 days, 0 hours, 0 minutes, and 0.125487 seconds \n",
      "total wall time: 0 days, 0 hours, 0 minutes, and 1.35287 seconds \n",
      "\n",
      "current simulated time: 360 min (max: 800 min)\n",
      "total agents: 3\n",
      "interval wall time: 0 days, 0 hours, 0 minutes, and 0.164113 seconds \n",
      "total wall time: 0 days, 0 hours, 0 minutes, and 1.51699 seconds \n",
      "\n",
      "current simulated time: 390 min (max: 800 min)\n",
      "total agents: 3\n",
      "interval wall time: 0 days, 0 hours, 0 minutes, and 0.092987 seconds \n",
      "total wall time: 0 days, 0 hours, 0 minutes, and 1.60997 seconds \n",
      "\n",
      "current simulated time: 420 min (max: 800 min)\n",
      "total agents: 3\n",
      "interval wall time: 0 days, 0 hours, 0 minutes, and 0.091615 seconds \n",
      "total wall time: 0 days, 0 hours, 0 minutes, and 1.70159 seconds \n",
      "\n",
      "current simulated time: 450 min (max: 800 min)\n",
      "total agents: 3\n",
      "interval wall time: 0 days, 0 hours, 0 minutes, and 0.095288 seconds \n",
      "total wall time: 0 days, 0 hours, 0 minutes, and 1.7969 seconds \n",
      "\n",
      "current simulated time: 480 min (max: 800 min)\n",
      "total agents: 3\n",
      "interval wall time: 0 days, 0 hours, 0 minutes, and 0.097411 seconds \n",
      "total wall time: 0 days, 0 hours, 0 minutes, and 1.89432 seconds \n",
      "\n",
      "current simulated time: 510 min (max: 800 min)\n",
      "total agents: 3\n",
      "interval wall time: 0 days, 0 hours, 0 minutes, and 0.096901 seconds \n",
      "total wall time: 0 days, 0 hours, 0 minutes, and 1.99122 seconds \n",
      "\n",
      "current simulated time: 540 min (max: 800 min)\n",
      "total agents: 3\n",
      "interval wall time: 0 days, 0 hours, 0 minutes, and 0.09806 seconds \n",
      "total wall time: 0 days, 0 hours, 0 minutes, and 2.08928 seconds \n",
      "\n",
      "current simulated time: 570 min (max: 800 min)\n",
      "total agents: 3\n",
      "interval wall time: 0 days, 0 hours, 0 minutes, and 0.092834 seconds \n",
      "total wall time: 0 days, 0 hours, 0 minutes, and 2.18212 seconds \n",
      "\n",
      "current simulated time: 600 min (max: 800 min)\n",
      "total agents: 3\n",
      "interval wall time: 0 days, 0 hours, 0 minutes, and 0.092813 seconds \n",
      "total wall time: 0 days, 0 hours, 0 minutes, and 2.27493 seconds \n",
      "\n",
      "current simulated time: 630 min (max: 800 min)\n",
      "total agents: 3\n",
      "interval wall time: 0 days, 0 hours, 0 minutes, and 0.096969 seconds \n",
      "total wall time: 0 days, 0 hours, 0 minutes, and 2.3719 seconds \n",
      "\n",
      "current simulated time: 660 min (max: 800 min)\n",
      "total agents: 3\n",
      "interval wall time: 0 days, 0 hours, 0 minutes, and 0.161733 seconds \n",
      "total wall time: 0 days, 0 hours, 0 minutes, and 2.53364 seconds \n",
      "\n",
      "current simulated time: 690 min (max: 800 min)\n",
      "total agents: 3\n",
      "interval wall time: 0 days, 0 hours, 0 minutes, and 0.101227 seconds \n",
      "total wall time: 0 days, 0 hours, 0 minutes, and 2.63487 seconds \n",
      "\n",
      "current simulated time: 720 min (max: 800 min)\n",
      "total agents: 3\n",
      "interval wall time: 0 days, 0 hours, 0 minutes, and 0.09678 seconds \n",
      "total wall time: 0 days, 0 hours, 0 minutes, and 2.73165 seconds \n",
      "\n",
      "current simulated time: 750 min (max: 800 min)\n",
      "total agents: 3\n",
      "interval wall time: 0 days, 0 hours, 0 minutes, and 0.1 seconds \n",
      "total wall time: 0 days, 0 hours, 0 minutes, and 2.83165 seconds \n",
      "\n",
      "current simulated time: 780 min (max: 800 min)\n",
      "total agents: 3\n",
      "interval wall time: 0 days, 0 hours, 0 minutes, and 0.102776 seconds \n",
      "total wall time: 0 days, 0 hours, 0 minutes, and 2.93443 seconds \n",
      "\n",
      "\n",
      "Total simulation runtime: \n",
      "0 days, 0 hours, 0 minutes, and 3.07075 seconds "
     ]
    }
   ],
   "source": [
    "import sys, os\n",
    "sys.path.insert(0, os.path.abspath('bin'))\n",
    "import Motility_Training_App"
   ]
  },
  {
   "cell_type": "code",
   "execution_count": 2,
   "metadata": {
    "extensions": {
     "jupyter_dashboards": {
      "version": 1,
      "views": {
       "grid_default": {
        "col": 0,
        "height": 43,
        "hidden": false,
        "row": 0,
        "width": 11
       },
       "report_default": {
        "hidden": false
       }
      }
     }
    },
    "scrolled": false
   },
   "outputs": [
    {
     "data": {
      "application/vnd.jupyter.widget-view+json": {
       "model_id": "883594d8a7b74fd88506501d11ab07c4",
       "version_major": 2,
       "version_minor": 0
      },
      "text/plain": [
       "VBox(children=(HBox(children=(Label(value='Motility_Training_App'),)), Tab(children=(Output(layout=Layout(heig…"
      ]
     },
     "execution_count": 2,
     "metadata": {},
     "output_type": "execute_result"
    }
   ],
   "source": [
    "Motility_Training_App.gui"
   ]
  },
  {
   "cell_type": "code",
   "execution_count": 4,
   "metadata": {
    "extensions": {
     "jupyter_dashboards": {
      "version": 1,
      "views": {
       "grid_default": {},
       "report_default": {
        "hidden": true
       }
      }
     }
    }
   },
   "outputs": [],
   "source": [
    "#from debug import debug_view\n",
    "#debug_view"
   ]
  }
 ],
 "metadata": {
  "extensions": {
   "jupyter_dashboards": {
    "activeView": "report_default",
    "version": 1,
    "views": {
     "grid_default": {
      "cellMargin": 10,
      "defaultCellHeight": 20,
      "maxColumns": 12,
      "name": "grid",
      "type": "grid"
     },
     "report_default": {
      "name": "report",
      "type": "report"
     }
    }
   }
  },
  "kernelspec": {
   "display_name": "Python 3",
   "language": "python",
   "name": "python3"
  },
  "language_info": {
   "codemirror_mode": {
    "name": "ipython",
    "version": 3
   },
   "file_extension": ".py",
   "mimetype": "text/x-python",
   "name": "python",
   "nbconvert_exporter": "python",
   "pygments_lexer": "ipython3",
   "version": "3.11.9"
  },
  "tool": true
 },
 "nbformat": 4,
 "nbformat_minor": 2
}
