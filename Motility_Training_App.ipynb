{
 "cells": [
  {
   "cell_type": "code",
   "execution_count": 1,
   "metadata": {
    "extensions": {
     "jupyter_dashboards": {
      "version": 1,
      "views": {
       "grid_default": {
        "hidden": true
       },
       "report_default": {
        "hidden": true
       }
      }
     }
    }
   },
   "outputs": [],
   "source": [
    "%matplotlib inline"
   ]
  },
  {
   "cell_type": "code",
   "execution_count": 3,
   "metadata": {},
   "outputs": [
    {
     "name": "stdout",
     "output_type": "stream",
     "text": [
      "Defaulting to user installation because normal site-packages is not writeable\n",
      "Requirement already satisfied: hublib in /Users/heiland/Library/Python/3.9/lib/python/site-packages (0.9.97)\n",
      "Requirement already satisfied: filelock in /Users/heiland/Library/Python/3.9/lib/python/site-packages (from hublib) (3.16.1)\n",
      "Requirement already satisfied: ipywidgets>=7.0 in /Users/heiland/Library/Python/3.9/lib/python/site-packages (from hublib) (8.1.5)\n",
      "Requirement already satisfied: joblib in /Users/heiland/Library/Python/3.9/lib/python/site-packages (from hublib) (1.4.2)\n",
      "Requirement already satisfied: pint in /Users/heiland/Library/Python/3.9/lib/python/site-packages (from hublib) (0.23)\n",
      "Requirement already satisfied: comm>=0.1.3 in /Users/heiland/Library/Python/3.9/lib/python/site-packages (from ipywidgets>=7.0->hublib) (0.2.2)\n",
      "Requirement already satisfied: ipython>=6.1.0 in /Users/heiland/Library/Python/3.9/lib/python/site-packages (from ipywidgets>=7.0->hublib) (8.18.1)\n",
      "Requirement already satisfied: traitlets>=4.3.1 in /Users/heiland/Library/Python/3.9/lib/python/site-packages (from ipywidgets>=7.0->hublib) (5.14.3)\n",
      "Requirement already satisfied: widgetsnbextension~=4.0.12 in /Users/heiland/Library/Python/3.9/lib/python/site-packages (from ipywidgets>=7.0->hublib) (4.0.13)\n",
      "Requirement already satisfied: jupyterlab-widgets~=3.0.12 in /Users/heiland/Library/Python/3.9/lib/python/site-packages (from ipywidgets>=7.0->hublib) (3.0.13)\n",
      "Requirement already satisfied: typing-extensions in /Users/heiland/Library/Python/3.9/lib/python/site-packages (from pint->hublib) (4.9.0)\n",
      "Requirement already satisfied: decorator in /Users/heiland/Library/Python/3.9/lib/python/site-packages (from ipython>=6.1.0->ipywidgets>=7.0->hublib) (5.1.1)\n",
      "Requirement already satisfied: jedi>=0.16 in /Users/heiland/Library/Python/3.9/lib/python/site-packages (from ipython>=6.1.0->ipywidgets>=7.0->hublib) (0.19.1)\n",
      "Requirement already satisfied: matplotlib-inline in /Users/heiland/Library/Python/3.9/lib/python/site-packages (from ipython>=6.1.0->ipywidgets>=7.0->hublib) (0.1.7)\n",
      "Requirement already satisfied: prompt-toolkit<3.1.0,>=3.0.41 in /Users/heiland/Library/Python/3.9/lib/python/site-packages (from ipython>=6.1.0->ipywidgets>=7.0->hublib) (3.0.48)\n",
      "Requirement already satisfied: pygments>=2.4.0 in /Users/heiland/Library/Python/3.9/lib/python/site-packages (from ipython>=6.1.0->ipywidgets>=7.0->hublib) (2.17.2)\n",
      "Requirement already satisfied: stack-data in /Users/heiland/Library/Python/3.9/lib/python/site-packages (from ipython>=6.1.0->ipywidgets>=7.0->hublib) (0.6.3)\n",
      "Requirement already satisfied: exceptiongroup in /Users/heiland/Library/Python/3.9/lib/python/site-packages (from ipython>=6.1.0->ipywidgets>=7.0->hublib) (1.2.0)\n",
      "Requirement already satisfied: pexpect>4.3 in /Users/heiland/Library/Python/3.9/lib/python/site-packages (from ipython>=6.1.0->ipywidgets>=7.0->hublib) (4.9.0)\n",
      "Requirement already satisfied: parso<0.9.0,>=0.8.3 in /Users/heiland/Library/Python/3.9/lib/python/site-packages (from jedi>=0.16->ipython>=6.1.0->ipywidgets>=7.0->hublib) (0.8.4)\n",
      "Requirement already satisfied: ptyprocess>=0.5 in /Users/heiland/Library/Python/3.9/lib/python/site-packages (from pexpect>4.3->ipython>=6.1.0->ipywidgets>=7.0->hublib) (0.7.0)\n",
      "Requirement already satisfied: wcwidth in /Users/heiland/Library/Python/3.9/lib/python/site-packages (from prompt-toolkit<3.1.0,>=3.0.41->ipython>=6.1.0->ipywidgets>=7.0->hublib) (0.2.13)\n",
      "Requirement already satisfied: executing>=1.2.0 in /Users/heiland/Library/Python/3.9/lib/python/site-packages (from stack-data->ipython>=6.1.0->ipywidgets>=7.0->hublib) (2.1.0)\n",
      "Requirement already satisfied: asttokens>=2.1.0 in /Users/heiland/Library/Python/3.9/lib/python/site-packages (from stack-data->ipython>=6.1.0->ipywidgets>=7.0->hublib) (2.4.1)\n",
      "Requirement already satisfied: pure-eval in /Users/heiland/Library/Python/3.9/lib/python/site-packages (from stack-data->ipython>=6.1.0->ipywidgets>=7.0->hublib) (0.2.3)\n",
      "Requirement already satisfied: six>=1.12.0 in /Library/Developer/CommandLineTools/Library/Frameworks/Python3.framework/Versions/3.9/lib/python3.9/site-packages (from asttokens>=2.1.0->stack-data->ipython>=6.1.0->ipywidgets>=7.0->hublib) (1.15.0)\n",
      "\n",
      "\u001b[1m[\u001b[0m\u001b[34;49mnotice\u001b[0m\u001b[1;39;49m]\u001b[0m\u001b[39;49m A new release of pip is available: \u001b[0m\u001b[31;49m24.0\u001b[0m\u001b[39;49m -> \u001b[0m\u001b[32;49m24.2\u001b[0m\n",
      "\u001b[1m[\u001b[0m\u001b[34;49mnotice\u001b[0m\u001b[1;39;49m]\u001b[0m\u001b[39;49m To update, run: \u001b[0m\u001b[32;49m/Library/Developer/CommandLineTools/usr/bin/python3 -m pip install --upgrade pip\u001b[0m\n",
      "Note: you may need to restart the kernel to use updated packages.\n"
     ]
    }
   ],
   "source": [
    "pip install -U --upgrade-strategy only-if-needed hublib"
   ]
  },
  {
   "cell_type": "code",
   "execution_count": 9,
   "metadata": {
    "extensions": {
     "jupyter_dashboards": {
      "version": 1,
      "views": {
       "grid_default": {
        "hidden": true
       },
       "report_default": {
        "hidden": true
       }
      }
     }
    }
   },
   "outputs": [
    {
     "ename": "TypeError",
     "evalue": "__init__() got an unexpected keyword argument 'cachedir'",
     "output_type": "error",
     "traceback": [
      "\u001b[0;31m---------------------------------------------------------------------------\u001b[0m",
      "\u001b[0;31mTypeError\u001b[0m                                 Traceback (most recent call last)",
      "Cell \u001b[0;32mIn[9], line 4\u001b[0m\n\u001b[1;32m      2\u001b[0m os\u001b[38;5;241m.\u001b[39menviron[\u001b[38;5;124m'\u001b[39m\u001b[38;5;124mCACHEDIR\u001b[39m\u001b[38;5;124m'\u001b[39m]\u001b[38;5;241m=\u001b[39mos\u001b[38;5;241m.\u001b[39mgetcwd() \u001b[38;5;241m+\u001b[39m \u001b[38;5;124m\"\u001b[39m\u001b[38;5;124m/mycache\u001b[39m\u001b[38;5;124m\"\u001b[39m\n\u001b[1;32m      3\u001b[0m sys\u001b[38;5;241m.\u001b[39mpath\u001b[38;5;241m.\u001b[39minsert(\u001b[38;5;241m0\u001b[39m, os\u001b[38;5;241m.\u001b[39mpath\u001b[38;5;241m.\u001b[39mabspath(\u001b[38;5;124m'\u001b[39m\u001b[38;5;124mbin\u001b[39m\u001b[38;5;124m'\u001b[39m))\n\u001b[0;32m----> 4\u001b[0m \u001b[38;5;28;01mimport\u001b[39;00m \u001b[38;5;21;01mMotility_Training_App\u001b[39;00m\n",
      "File \u001b[0;32m~/git/furkan_training_motility/bin/Motility_Training_App.py:357\u001b[0m\n\u001b[1;32m    355\u001b[0m \u001b[38;5;28;01melse\u001b[39;00m:\n\u001b[1;32m    356\u001b[0m     \u001b[38;5;28;01mif\u001b[39;00m (hublib_flag):\n\u001b[0;32m--> 357\u001b[0m         run_button \u001b[38;5;241m=\u001b[39m \u001b[43mRunCommand\u001b[49m\u001b[43m(\u001b[49m\u001b[43mstart_func\u001b[49m\u001b[38;5;241;43m=\u001b[39;49m\u001b[43mrun_sim_func\u001b[49m\u001b[43m,\u001b[49m\n\u001b[1;32m    358\u001b[0m \u001b[43m                            \u001b[49m\u001b[43mdone_func\u001b[49m\u001b[38;5;241;43m=\u001b[39;49m\u001b[43mrun_done_func\u001b[49m\u001b[43m,\u001b[49m\n\u001b[1;32m    359\u001b[0m \u001b[43m                            \u001b[49m\u001b[43mcachename\u001b[49m\u001b[38;5;241;43m=\u001b[39;49m\u001b[38;5;124;43m'\u001b[39;49m\u001b[38;5;124;43mMotility_Training_App\u001b[39;49m\u001b[38;5;124;43m'\u001b[39;49m\u001b[43m,\u001b[49m\n\u001b[1;32m    360\u001b[0m \u001b[43m                            \u001b[49m\u001b[43mshowcache\u001b[49m\u001b[38;5;241;43m=\u001b[39;49m\u001b[38;5;28;43;01mFalse\u001b[39;49;00m\u001b[43m,\u001b[49m\n\u001b[1;32m    361\u001b[0m \u001b[43m                            \u001b[49m\u001b[43moutcb\u001b[49m\u001b[38;5;241;43m=\u001b[39;49m\u001b[43moutcb\u001b[49m\u001b[43m)\u001b[49m  \n\u001b[1;32m    362\u001b[0m     \u001b[38;5;28;01melse\u001b[39;00m:\n\u001b[1;32m    363\u001b[0m         run_button \u001b[38;5;241m=\u001b[39m widgets\u001b[38;5;241m.\u001b[39mButton(\n\u001b[1;32m    364\u001b[0m             description\u001b[38;5;241m=\u001b[39m\u001b[38;5;124m'\u001b[39m\u001b[38;5;124mRun\u001b[39m\u001b[38;5;124m'\u001b[39m,\n\u001b[1;32m    365\u001b[0m             button_style\u001b[38;5;241m=\u001b[39m\u001b[38;5;124m'\u001b[39m\u001b[38;5;124msuccess\u001b[39m\u001b[38;5;124m'\u001b[39m,  \u001b[38;5;66;03m# 'success', 'info', 'warning', 'danger' or ''\u001b[39;00m\n\u001b[1;32m    366\u001b[0m             tooltip\u001b[38;5;241m=\u001b[39m\u001b[38;5;124m'\u001b[39m\u001b[38;5;124mRun a simulation\u001b[39m\u001b[38;5;124m'\u001b[39m,\n\u001b[1;32m    367\u001b[0m         )\n",
      "File \u001b[0;32m~/Library/Python/3.9/lib/python/site-packages/hublib/ui/command.py:95\u001b[0m, in \u001b[0;36mRunCommand.__init__\u001b[0;34m(self, label, tooltip, start_func, done_func, outcb, width, cachename, cachedir, cachecb, showcache)\u001b[0m\n\u001b[1;32m     93\u001b[0m \u001b[38;5;28;01mif\u001b[39;00m \u001b[38;5;129;01mnot\u001b[39;00m os\u001b[38;5;241m.\u001b[39mpath\u001b[38;5;241m.\u001b[39misdir(\u001b[38;5;28mself\u001b[39m\u001b[38;5;241m.\u001b[39mcachedir):\n\u001b[1;32m     94\u001b[0m     os\u001b[38;5;241m.\u001b[39mmakedirs(\u001b[38;5;28mself\u001b[39m\u001b[38;5;241m.\u001b[39mcachedir)\n\u001b[0;32m---> 95\u001b[0m memory \u001b[38;5;241m=\u001b[39m \u001b[43mMemory\u001b[49m\u001b[43m(\u001b[49m\u001b[43mcachedir\u001b[49m\u001b[38;5;241;43m=\u001b[39;49m\u001b[38;5;28;43mself\u001b[39;49m\u001b[38;5;241;43m.\u001b[39;49m\u001b[43mcachetabdir\u001b[49m\u001b[43m,\u001b[49m\u001b[43m \u001b[49m\u001b[43mverbose\u001b[49m\u001b[38;5;241;43m=\u001b[39;49m\u001b[38;5;241;43m0\u001b[39;49m\u001b[43m)\u001b[49m\n\u001b[1;32m     97\u001b[0m \u001b[38;5;129m@memory\u001b[39m\u001b[38;5;241m.\u001b[39mcache\n\u001b[1;32m     98\u001b[0m \u001b[38;5;28;01mdef\u001b[39;00m \u001b[38;5;21mmake_rname\u001b[39m(\u001b[38;5;241m*\u001b[39margs):\n\u001b[1;32m     99\u001b[0m     \u001b[38;5;66;03m# uuid should be unique, but check just in case\u001b[39;00m\n\u001b[1;32m    100\u001b[0m     \u001b[38;5;28;01mwhile\u001b[39;00m \u001b[38;5;28;01mTrue\u001b[39;00m:\n",
      "\u001b[0;31mTypeError\u001b[0m: __init__() got an unexpected keyword argument 'cachedir'"
     ]
    }
   ],
   "source": [
    "import sys, os\n",
    "os.environ['CACHEDIR']=os.getcwd() + \"/mycache\"\n",
    "sys.path.insert(0, os.path.abspath('bin'))\n",
    "import Motility_Training_App"
   ]
  },
  {
   "cell_type": "code",
   "execution_count": 5,
   "metadata": {
    "extensions": {
     "jupyter_dashboards": {
      "version": 1,
      "views": {
       "grid_default": {
        "col": 0,
        "height": 43,
        "hidden": false,
        "row": 0,
        "width": 11
       },
       "report_default": {
        "hidden": false
       }
      }
     }
    }
   },
   "outputs": [
    {
     "ename": "NameError",
     "evalue": "name 'Motility_Training_App' is not defined",
     "output_type": "error",
     "traceback": [
      "\u001b[0;31m---------------------------------------------------------------------------\u001b[0m",
      "\u001b[0;31mNameError\u001b[0m                                 Traceback (most recent call last)",
      "Cell \u001b[0;32mIn[5], line 1\u001b[0m\n\u001b[0;32m----> 1\u001b[0m \u001b[43mMotility_Training_App\u001b[49m\u001b[38;5;241m.\u001b[39mgui\n",
      "\u001b[0;31mNameError\u001b[0m: name 'Motility_Training_App' is not defined"
     ]
    }
   ],
   "source": [
    "Motility_Training_App.gui"
   ]
  },
  {
   "cell_type": "code",
   "execution_count": 6,
   "metadata": {
    "extensions": {
     "jupyter_dashboards": {
      "version": 1,
      "views": {
       "grid_default": {},
       "report_default": {
        "hidden": true
       }
      }
     }
    }
   },
   "outputs": [],
   "source": [
    "#from debug import debug_view\n",
    "#debug_view"
   ]
  },
  {
   "cell_type": "code",
   "execution_count": null,
   "metadata": {},
   "outputs": [],
   "source": []
  }
 ],
 "metadata": {
  "extensions": {
   "jupyter_dashboards": {
    "activeView": "report_default",
    "version": 1,
    "views": {
     "grid_default": {
      "cellMargin": 10,
      "defaultCellHeight": 20,
      "maxColumns": 12,
      "name": "grid",
      "type": "grid"
     },
     "report_default": {
      "name": "report",
      "type": "report"
     }
    }
   }
  },
  "kernelspec": {
   "display_name": "Python 3 (ipykernel)",
   "language": "python",
   "name": "python3"
  },
  "language_info": {
   "codemirror_mode": {
    "name": "ipython",
    "version": 3
   },
   "file_extension": ".py",
   "mimetype": "text/x-python",
   "name": "python",
   "nbconvert_exporter": "python",
   "pygments_lexer": "ipython3",
   "version": "3.9.6"
  },
  "tool": true
 },
 "nbformat": 4,
 "nbformat_minor": 4
}
